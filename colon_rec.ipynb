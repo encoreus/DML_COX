{
 "cells": [
  {
   "cell_type": "markdown",
   "id": "0cb1ec54-9fd7-48fd-ad49-6a793d12277d",
   "metadata": {},
   "source": [
    "## Import the package and data"
   ]
  },
  {
   "cell_type": "code",
   "execution_count": 4,
   "id": "c54c68e0-63b2-4447-97ec-e7121c4777b9",
   "metadata": {
    "execution": {
     "iopub.execute_input": "2024-07-14T06:42:19.204471Z",
     "iopub.status.busy": "2024-07-14T06:42:19.203698Z",
     "iopub.status.idle": "2024-07-14T06:42:21.885039Z",
     "shell.execute_reply": "2024-07-14T06:42:21.884254Z",
     "shell.execute_reply.started": "2024-07-14T06:42:19.204418Z"
    }
   },
   "outputs": [
    {
     "name": "stdout",
     "output_type": "stream",
     "text": [
      "cuda:0\n"
     ]
    }
   ],
   "source": [
    "import numpy as np\n",
    "import pandas as pd\n",
    "import math\n",
    "import torch\n",
    "import matplotlib.pyplot  as plt\n",
    "import matplotlib\n",
    "import copy\n",
    "from lifelines import CoxPHFitter\n",
    "\n",
    "from random import shuffle\n",
    "from torch.utils.data import DataLoader, TensorDataset, random_split, Dataset,ConcatDataset\n",
    "from torch import nn\n",
    "from torchvision import datasets,transforms\n",
    "from scipy.stats import chi2\n",
    "from mpl_toolkits.mplot3d import Axes3D\n",
    "from mpl_toolkits.mplot3d import Axes3D\n",
    "from DML_COX import *\n",
    "torch.cuda.empty_cache()\n",
    "device = torch.device(\"cuda:0\" if torch.cuda.is_available() else \"cpu\")\n",
    "print(device)"
   ]
  },
  {
   "cell_type": "code",
   "execution_count": 5,
   "id": "25934abd-c57c-4fea-8495-7a3452f05d67",
   "metadata": {
    "execution": {
     "iopub.execute_input": "2024-07-14T06:42:21.894464Z",
     "iopub.status.busy": "2024-07-14T06:42:21.894162Z",
     "iopub.status.idle": "2024-07-14T06:42:21.899654Z",
     "shell.execute_reply": "2024-07-14T06:42:21.898959Z",
     "shell.execute_reply.started": "2024-07-14T06:42:21.894441Z"
    }
   },
   "outputs": [],
   "source": [
    "def ToTensor(data):\n",
    "    return torch.tensor(np.array(data)).to(torch.float32)\n",
    "\n",
    "def numPercent(data):\n",
    "    for col in data.columns:\n",
    "        num = data[col].isna().sum() # nan个数\n",
    "        print(col,num / len(data)) # 占比\n",
    "\n",
    "def impute_NA(data,print_state=False):\n",
    "    data=data.astype(np.float32)\n",
    "    subset_na = np.isnan(data)\n",
    "    if print_state:\n",
    "        print(np.median(data[~subset_na]))\n",
    "    data[subset_na] = np.median(data[~subset_na])\n",
    "    return data\n"
   ]
  },
  {
   "cell_type": "code",
   "execution_count": 6,
   "id": "f2aaef7a-f545-4f50-92df-eb0c6d39fa5a",
   "metadata": {
    "execution": {
     "iopub.execute_input": "2024-07-14T06:42:21.901334Z",
     "iopub.status.busy": "2024-07-14T06:42:21.901019Z",
     "iopub.status.idle": "2024-07-14T06:42:21.951577Z",
     "shell.execute_reply": "2024-07-14T06:42:21.950762Z",
     "shell.execute_reply.started": "2024-07-14T06:42:21.901309Z"
    }
   },
   "outputs": [
    {
     "name": "stdout",
     "output_type": "stream",
     "text": [
      "1       Lev+5FU\n",
      "3       Lev+5FU\n",
      "5           Obs\n",
      "7       Lev+5FU\n",
      "9           Obs\n",
      "         ...   \n",
      "1849    Lev+5FU\n",
      "1851        Lev\n",
      "1853        Lev\n",
      "1855    Lev+5FU\n",
      "1857        Lev\n",
      "Name: rx, Length: 929, dtype: object\n",
      "tensor([[0., 1.],\n",
      "        [0., 1.],\n",
      "        [0., 0.],\n",
      "        ...,\n",
      "        [1., 0.],\n",
      "        [0., 1.],\n",
      "        [1., 0.]])\n"
     ]
    }
   ],
   "source": [
    "# read colon.csv\n",
    "colon = pd.read_csv('colon.csv')\n",
    "colon_rec = colon.iloc[range(1,len(colon),2)]\n",
    "colon_death = colon.iloc[range(0,len(colon),2)]\n",
    "\n",
    "data = colon_rec\n",
    "# print(data.head())\n",
    "T = ToTensor(data.time).unsqueeze(1)\n",
    "D = ToTensor(data.status).unsqueeze(1)\n",
    "X = ToTensor(pd.get_dummies(data.rx))[:,0:2]\n",
    "print(data.rx)\n",
    "print(X)"
   ]
  },
  {
   "cell_type": "code",
   "execution_count": 7,
   "id": "a6a3d28e-cb3a-4ec1-ba55-c1397109cee3",
   "metadata": {
    "execution": {
     "iopub.execute_input": "2024-07-14T06:42:21.952837Z",
     "iopub.status.busy": "2024-07-14T06:42:21.952551Z",
     "iopub.status.idle": "2024-07-14T06:42:23.694282Z",
     "shell.execute_reply": "2024-07-14T06:42:23.693408Z",
     "shell.execute_reply.started": "2024-07-14T06:42:21.952809Z"
    }
   },
   "outputs": [
    {
     "name": "stdout",
     "output_type": "stream",
     "text": [
      "2.0\n",
      "2.0\n",
      "torch.Size([929, 13])\n"
     ]
    }
   ],
   "source": [
    "sex = ToTensor(data.sex).unsqueeze(1)\n",
    "age = ToTensor(data.age).unsqueeze(1)\n",
    "obstruct = ToTensor(data.obstruct).unsqueeze(1)\n",
    "perfor = ToTensor(data.perfor).unsqueeze(1)\n",
    "adhere = ToTensor(data.adhere).unsqueeze(1)\n",
    "nodes = (ToTensor(impute_NA(data.nodes,print_state=True))).unsqueeze(1)\n",
    "differ = (ToTensor(pd.get_dummies(impute_NA(data.differ,print_state=True))))[:,1:3]\n",
    "extent = (ToTensor(pd.get_dummies(data.extent)))[:,1:4]\n",
    "surg = (ToTensor(data.surg)).unsqueeze(1)\n",
    "node4 = (ToTensor(data.node4)).unsqueeze(1)\n",
    "\n",
    "Z=feature_normalize(torch.cat((sex,age,obstruct,perfor,adhere,nodes,differ,extent,surg,node4),axis=1))\n",
    "mydat = DeepSurvData(T,D,X,Z,device)\n",
    "print(mydat.Z.shape)"
   ]
  },
  {
   "cell_type": "markdown",
   "id": "fdb884cf-93db-4222-a5a4-82f16631dd63",
   "metadata": {
    "jp-MarkdownHeadingCollapsed": true
   },
   "source": [
    "## Estimating $\\theta(Z)$, $\\Lambda(t)$ by Partial linear Cox methods"
   ]
  },
  {
   "cell_type": "code",
   "execution_count": 8,
   "id": "290a555c-10a0-406e-8ae6-bbeed6b21ebc",
   "metadata": {
    "execution": {
     "iopub.execute_input": "2024-06-17T15:08:09.129067Z",
     "iopub.status.busy": "2024-06-17T15:08:09.128322Z",
     "iopub.status.idle": "2024-06-17T15:08:09.145574Z",
     "shell.execute_reply": "2024-06-17T15:08:09.144573Z",
     "shell.execute_reply.started": "2024-06-17T15:08:09.128999Z"
    }
   },
   "outputs": [
    {
     "name": "stdout",
     "output_type": "stream",
     "text": [
      "torch.Size([800, 13])\n"
     ]
    }
   ],
   "source": [
    "# np.random.seed(2024)\n",
    "sample=np.random.permutation(np.arange(len(mydat.T)))\n",
    "sample1 = sample[0:800]\n",
    "sample2 = sample[800:len(sample)]\n",
    "mydat_train = mydat[sample1] \n",
    "mydat_test = mydat[sample2]\n",
    "print(mydat_train.Z.shape)"
   ]
  },
  {
   "cell_type": "code",
   "execution_count": 9,
   "id": "6858897f-1f4f-4aa8-a0da-4df2d16e6ac6",
   "metadata": {
    "execution": {
     "iopub.execute_input": "2024-06-17T15:08:13.159017Z",
     "iopub.status.busy": "2024-06-17T15:08:13.158075Z",
     "iopub.status.idle": "2024-06-17T15:08:17.620540Z",
     "shell.execute_reply": "2024-06-17T15:08:17.619642Z",
     "shell.execute_reply.started": "2024-06-17T15:08:13.158945Z"
    }
   },
   "outputs": [
    {
     "name": "stdout",
     "output_type": "stream",
     "text": [
      "epoch: 0 Train_loss:3.17304, epoch: 0 Test_loss:2.52306\n",
      "epoch: 10 Train_loss:3.15215, epoch: 10 Test_loss:2.50116\n",
      "epoch: 20 Train_loss:3.13552, epoch: 20 Test_loss:2.48346\n",
      "epoch: 30 Train_loss:3.12264, epoch: 30 Test_loss:2.46950\n",
      "epoch: 40 Train_loss:3.11285, epoch: 40 Test_loss:2.45930\n",
      "epoch: 50 Train_loss:3.10546, epoch: 50 Test_loss:2.45234\n",
      "epoch: 60 Train_loss:3.09959, epoch: 60 Test_loss:2.44800\n",
      "epoch: 70 Train_loss:3.09452, epoch: 70 Test_loss:2.44548\n",
      "epoch: 80 Train_loss:3.08977, epoch: 80 Test_loss:2.44401\n",
      "epoch: 90 Train_loss:3.08522, epoch: 90 Test_loss:2.44311\n",
      "epoch: 100 Train_loss:3.08073, epoch: 100 Test_loss:2.44238\n",
      "epoch: 110 Train_loss:3.07630, epoch: 110 Test_loss:2.44189\n",
      "epoch: 120 Train_loss:3.07194, epoch: 120 Test_loss:2.44154\n",
      "epoch: 130 Train_loss:3.06747, epoch: 130 Test_loss:2.44119\n",
      "epoch: 140 Train_loss:3.06293, epoch: 140 Test_loss:2.44085\n",
      "epoch: 150 Train_loss:3.05839, epoch: 150 Test_loss:2.44112\n",
      "tensor([-0.0249, -0.1526], device='cuda:0')\n"
     ]
    }
   ],
   "source": [
    "model_theta = nn.Sequential(\n",
    "    nn.Linear(mydat.Z.shape[1],100),\n",
    "    nn.ReLU(),\n",
    "    nn.Linear(100,1),\n",
    ")\n",
    "\n",
    "# define the neural network framework used to train f(Z,t) = E[X|Z,T>t]\n",
    "model_XZ = nn.Sequential(\n",
    "    nn.Linear(mydat.Z.shape[1],50),\n",
    "    nn.ReLU(),\n",
    "    nn.Linear(50,mydat.X.shape[1]),\n",
    "    nn.Sigmoid(),\n",
    ")\n",
    "\n",
    "\n",
    "Epoch_XZ=181\n",
    "lr_XZ=5e-4\n",
    "Epoch_theta=181\n",
    "lr_theta=5e-4\n",
    "\n",
    "\n",
    "beta_est,theta_est = fit_CoxPH(mydat_train,device=device,model=model_theta,\n",
    "                               Epoch=Epoch_theta, lr=lr_theta,\n",
    "                               Test_set=mydat_test,print_state=True)\n",
    "print(beta_est)\n",
    "\n",
    "# T_interval = torch.quantile(mydat.T,torch.arange(0,0.9,0.2).to(device))\n",
    "# print('train E[X|Z,T>t]')\n",
    "# model_XZ = fit_XZ_complete(mydat_train,T_interval=T_interval,device=device,loss_fn=nn.BCELoss(),\n",
    "#                            model=model_XZ, lr=lr_XZ, Epoch=Epoch_XZ,\n",
    "#                            Test_set=mydat_test,print_state=True)\n"
   ]
  },
  {
   "cell_type": "markdown",
   "id": "74c5abb3-fdac-435e-bb6a-d30a67ebcea1",
   "metadata": {
    "jp-MarkdownHeadingCollapsed": true
   },
   "source": [
    "## Double Robust Estimation"
   ]
  },
  {
   "cell_type": "code",
   "execution_count": 10,
   "id": "71e892c9-66ce-4ff2-9d07-0031a7c68a53",
   "metadata": {
    "execution": {
     "iopub.execute_input": "2024-06-18T06:42:55.549275Z",
     "iopub.status.busy": "2024-06-18T06:42:55.548279Z",
     "iopub.status.idle": "2024-06-18T06:42:55.568657Z",
     "shell.execute_reply": "2024-06-18T06:42:55.566801Z",
     "shell.execute_reply.started": "2024-06-18T06:42:55.549192Z"
    }
   },
   "outputs": [],
   "source": [
    "model_theta = nn.Sequential(\n",
    "    nn.Linear(mydat.Z.shape[1],50),\n",
    "    nn.ReLU(),\n",
    "    nn.Linear(50,50),\n",
    "    nn.ReLU(),\n",
    "    nn.Linear(50,1),\n",
    ")\n",
    "\n",
    "# define the neural network framework used to train f(Z,t) = E[X|Z,T>t]\n",
    "model_XZ = nn.Sequential(\n",
    "    nn.Linear(mydat.Z.shape[1],50),\n",
    "    nn.ReLU(),\n",
    "    nn.Linear(50,50),\n",
    "    nn.ReLU(),\n",
    "    nn.Linear(50,mydat.X.shape[1]),\n",
    "    nn.Sigmoid(),\n",
    ")\n",
    "\n",
    "# model_theta = nn.Sequential(\n",
    "#     nn.Linear(mydat.Z.shape[1],100),\n",
    "#     nn.Sigmoid(),\n",
    "#     nn.Linear(100,1),\n",
    "# )\n",
    "\n",
    "# # define the neural network framework used to train f(Z,t) = E[X|Z,T>t]\n",
    "# model_XZ = nn.Sequential(\n",
    "#     nn.Linear(mydat.Z.shape[1],50),\n",
    "#     nn.Sigmoid(),\n",
    "#     nn.Linear(50,mydat.X.shape[1]),\n",
    "#     nn.Sigmoid(),\n",
    "# )\n",
    "\n",
    "Epoch_XZ=181\n",
    "lr_XZ=3e-4\n",
    "Epoch_theta=181\n",
    "lr_theta=5e-4\n",
    "accuracy=0.1"
   ]
  },
  {
   "cell_type": "code",
   "execution_count": 11,
   "id": "c58a287b-5075-4435-9cd1-2e74baa7f86a",
   "metadata": {
    "execution": {
     "iopub.execute_input": "2024-06-18T07:36:20.406482Z",
     "iopub.status.busy": "2024-06-18T07:36:20.405767Z",
     "iopub.status.idle": "2024-06-18T07:36:41.670136Z",
     "shell.execute_reply": "2024-06-18T07:36:41.669287Z",
     "shell.execute_reply.started": "2024-06-18T07:36:20.406433Z"
    }
   },
   "outputs": [
    {
     "name": "stdout",
     "output_type": "stream",
     "text": [
      "train theta(Z)\n",
      "epoch: 0 Train_loss:3.25422, epoch: 0 Test_loss:2.21850\n",
      "epoch: 10 Train_loss:3.23612, epoch: 10 Test_loss:2.20876\n",
      "epoch: 20 Train_loss:3.21956, epoch: 20 Test_loss:2.20163\n",
      "epoch: 30 Train_loss:3.20364, epoch: 30 Test_loss:2.19701\n",
      "epoch: 40 Train_loss:3.18887, epoch: 40 Test_loss:2.19481\n",
      "epoch: 50 Train_loss:3.17621, epoch: 50 Test_loss:2.19391\n",
      "epoch: 60 Train_loss:3.16680, epoch: 60 Test_loss:2.19344\n",
      "epoch: 70 Train_loss:3.16023, epoch: 70 Test_loss:2.19245\n",
      "epoch: 80 Train_loss:3.15412, epoch: 80 Test_loss:2.18983\n",
      "epoch: 90 Train_loss:3.14800, epoch: 90 Test_loss:2.18833\n",
      "epoch: 100 Train_loss:3.14195, epoch: 100 Test_loss:2.18801\n",
      "epoch: 110 Train_loss:3.13591, epoch: 110 Test_loss:2.18899\n",
      "train E[X|Z,T>t]\n",
      "epoch: 0 Train_loss:2.26282, epoch: 0 Test_loss:2.22852\n",
      "epoch: 10 Train_loss:2.21404, epoch: 10 Test_loss:2.17845\n",
      "epoch: 20 Train_loss:2.16959, epoch: 20 Test_loss:2.13452\n",
      "epoch: 30 Train_loss:2.12939, epoch: 30 Test_loss:2.09533\n",
      "epoch: 40 Train_loss:2.09377, epoch: 40 Test_loss:2.06148\n",
      "epoch: 50 Train_loss:2.06320, epoch: 50 Test_loss:2.03330\n",
      "epoch: 60 Train_loss:2.03840, epoch: 60 Test_loss:2.01235\n",
      "epoch: 70 Train_loss:2.01953, epoch: 70 Test_loss:1.99923\n",
      "epoch: 80 Train_loss:2.00538, epoch: 80 Test_loss:1.99267\n",
      "epoch: 90 Train_loss:1.99410, epoch: 90 Test_loss:1.99048\n",
      "epoch: 100 Train_loss:1.98418, epoch: 100 Test_loss:1.99086\n",
      "train theta(Z)\n",
      "epoch: 0 Train_loss:3.20740, epoch: 0 Test_loss:2.17216\n",
      "epoch: 10 Train_loss:3.19049, epoch: 10 Test_loss:2.16087\n",
      "epoch: 20 Train_loss:3.17518, epoch: 20 Test_loss:2.15092\n",
      "epoch: 30 Train_loss:3.16061, epoch: 30 Test_loss:2.14205\n",
      "epoch: 40 Train_loss:3.14721, epoch: 40 Test_loss:2.13425\n",
      "epoch: 50 Train_loss:3.13576, epoch: 50 Test_loss:2.12794\n",
      "epoch: 60 Train_loss:3.12751, epoch: 60 Test_loss:2.12410\n",
      "epoch: 70 Train_loss:3.12155, epoch: 70 Test_loss:2.12284\n",
      "epoch: 80 Train_loss:3.11611, epoch: 80 Test_loss:2.12227\n",
      "epoch: 90 Train_loss:3.11067, epoch: 90 Test_loss:2.12208\n",
      "epoch: 100 Train_loss:3.10521, epoch: 100 Test_loss:2.12234\n",
      "train E[X|Z,T>t]\n",
      "epoch: 0 Train_loss:2.26213, epoch: 0 Test_loss:2.23143\n",
      "epoch: 10 Train_loss:2.21336, epoch: 10 Test_loss:2.18068\n",
      "epoch: 20 Train_loss:2.16886, epoch: 20 Test_loss:2.13606\n",
      "epoch: 30 Train_loss:2.12851, epoch: 30 Test_loss:2.09651\n",
      "epoch: 40 Train_loss:2.09277, epoch: 40 Test_loss:2.06253\n",
      "epoch: 50 Train_loss:2.06211, epoch: 50 Test_loss:2.03433\n",
      "epoch: 60 Train_loss:2.03749, epoch: 60 Test_loss:2.01344\n",
      "epoch: 70 Train_loss:2.01913, epoch: 70 Test_loss:2.00056\n",
      "epoch: 80 Train_loss:2.00585, epoch: 80 Test_loss:1.99442\n",
      "epoch: 90 Train_loss:1.99565, epoch: 90 Test_loss:1.99280\n",
      "epoch: 100 Train_loss:1.98689, epoch: 100 Test_loss:1.99368\n"
     ]
    }
   ],
   "source": [
    "np.random.seed(2024);torch.manual_seed(2024)\n",
    "sample=np.random.permutation(np.arange(len(mydat.T)))\n",
    "sample1 = sample[0:800]\n",
    "sample2 = sample[800:len(sample)]\n",
    "mydat_train = mydat[sample1] \n",
    "mydat_test = mydat[sample2]\n",
    "\n",
    "\n",
    "# train the double robust model\n",
    "(beta_DB, var_est_DB, \n",
    " beta_est1, deepSurv1,  model_XZ1, \n",
    " beta_est2, deepSurv2, model_XZ2) = DML_CoxPH(mydat_train, device=device,accuracy=accuracy, Test_set= mydat_test,\n",
    "                                              model_XZ=model_XZ, model_theta=model_theta,\n",
    "                                              Epoch_XZ=Epoch_XZ, Epoch_theta=Epoch_theta,\n",
    "                                              lr_XZ=lr_XZ, lr_theta=lr_theta,\n",
    "                                              print_state=True)\n",
    "\n",
    "beta_naive=(beta_est1+beta_est2)/2\n",
    "net = CustomNet(h_dims=[1, 50,50,50, 2], g_dims=[13,50,50,50, 2])\n",
    "var_est_naive = fit_variance(mydat_train, net, device=device, lr=4e-5,Epoch=400,print_state=False)\n",
    "\n",
    "# (beta_DB, var_est, \n",
    "#  beta_est1, deepSurv1,  model_XZ1, \n",
    "#  beta_est2, deepSurv2, model_XZ2) = DML_CoxPH(mydat, device=device,accuracy=accuracy, Test_set= False,\n",
    "#                                               model_XZ=model_XZ, model_theta=model_theta,\n",
    "#                                               Epoch_XZ=Epoch_XZ, Epoch_theta=Epoch_theta,\n",
    "#                                               lr_XZ=lr_XZ, lr_theta=lr_theta,\n",
    "#                                               print_state=True)\n",
    "\n",
    "\n",
    "\n",
    "# # calculate the direct parameter estimator without using double robust techniques\n",
    "\n",
    "# # calculate the p_value\n",
    "# beta=torch.zeros(2).to(device)\n",
    "# chi_value = torch.squeeze((beta_DB-beta) @ torch.inverse(var_est) @ torch.unsqueeze(beta_DB-beta,1))\n",
    "# p_value_joint = 1 - chi2.cdf(chi_value.cpu(),len(beta_DB))\n",
    "# p_value_single = 1 - chi2.cdf(((beta_DB-beta)**2/torch.diag(var_est)).cpu(),1)\n",
    "# print()\n",
    "# print('直接估计偏差：',beta_naive-beta,'偏差模长：',torch.norm(beta_naive-beta))\n",
    "# print('双重鲁棒估计偏差：',beta_DB-beta,'偏差模长：',torch.norm(beta_DB-beta))\n",
    "# print('双重鲁棒估计标准差：',torch.sqrt(torch.diag(var_est)))\n",
    "# print('双重鲁棒估计检验 H_0: β=β_0, p值：%.5f'%p_value_joint)\n",
    "# for i in range(len(beta_DB)):\n",
    "#     print('双重鲁棒估计检验 H_0: β[%d]=β_0[%d], p值：%.5f'%(i,i,p_value_single[i]))"
   ]
  },
  {
   "cell_type": "code",
   "execution_count": 12,
   "id": "9ae4ffdb",
   "metadata": {},
   "outputs": [
    {
     "name": "stdout",
     "output_type": "stream",
     "text": [
      "\n",
      "PL Cox bias： tensor([ 0.1153, -0.2264], device='cuda:0') bias norm: tensor(0.2541, device='cuda:0')\n",
      "PL Cox standard error： tensor([0.1155, 0.1277], device='cuda:0')\n",
      "PL Cox test H_0: β=β_0, p value：0.02989\n",
      "PL Cox test H_0: β[0]=β_0[0], p value：0.31821\n",
      "PL Cox test H_0: β[1]=β_0[1], p value：0.07623\n",
      "\n",
      "DBPL bias： tensor([-0.0547, -0.4600], device='cuda:0') DBPL bias： tensor(0.4632, device='cuda:0')\n",
      "DBPL standard error： tensor([0.1217, 0.1334], device='cuda:0')\n",
      "DBPL test H_0: β=β_0, p value：0.00075\n",
      "DBPL test H_0: β[0]=β_0[0], p value：0.65286\n",
      "DBPL test H_0: β[1]=β_0[1], p value：0.00057\n"
     ]
    }
   ],
   "source": [
    "# var_est_naive=var_est_naive.to(device)\n",
    "print()\n",
    "beta=torch.zeros(2).to(device)\n",
    "chi_value = torch.squeeze((beta_naive-beta) @ torch.inverse(var_est_naive) @ torch.unsqueeze(beta_naive-beta,1))\n",
    "p_value_joint = 1 - chi2.cdf(chi_value.cpu(),len(beta_naive))\n",
    "p_value_single = 1 - chi2.cdf(((beta_naive-beta)**2/torch.diag(var_est_naive)).cpu(),1)\n",
    "print('PL Cox bias：',beta_naive-beta,'bias norm:',torch.norm(beta_naive-beta))\n",
    "print('PL Cox standard error：',torch.sqrt(torch.diag(var_est_naive)))\n",
    "print('PL Cox test H_0: β=β_0, p value：%.5f'%p_value_joint)\n",
    "for i in range(len(beta_naive)):\n",
    "    print('PL Cox test H_0: β[%d]=β_0[%d], p value：%.5f'%(i,i,p_value_single[i]))\n",
    "\n",
    "\n",
    "print()\n",
    "chi_value = torch.squeeze((beta_DB-beta) @ torch.inverse(var_est_DB) @ torch.unsqueeze(beta_DB-beta,1))\n",
    "p_value_joint = 1 - chi2.cdf(chi_value.cpu(),len(beta_DB))\n",
    "p_value_single = 1 - chi2.cdf(((beta_DB-beta)**2/torch.diag(var_est_DB)).cpu(),1)\n",
    "print('DBPL bias：',beta_DB-beta,'DBPL bias：',torch.norm(beta_DB-beta))\n",
    "print('DBPL standard error：',torch.sqrt(torch.diag(var_est_DB)))\n",
    "print('DBPL test H_0: β=β_0, p value：%.5f'%p_value_joint)\n",
    "for i in range(len(beta_DB)):\n",
    "    print('DBPL test H_0: β[%d]=β_0[%d], p value：%.5f'%(i,i,p_value_single[i]))"
   ]
  },
  {
   "cell_type": "markdown",
   "id": "e0424e83-8353-49c3-b4b3-4cb03dca6d8a",
   "metadata": {},
   "source": [
    "## Cross validation"
   ]
  },
  {
   "cell_type": "code",
   "execution_count": 13,
   "id": "3692a271-9a7c-4f4b-ac99-dac583ccafa9",
   "metadata": {
    "execution": {
     "iopub.execute_input": "2024-07-14T06:42:25.348224Z",
     "iopub.status.busy": "2024-07-14T06:42:25.347483Z",
     "iopub.status.idle": "2024-07-14T06:42:25.360612Z",
     "shell.execute_reply": "2024-07-14T06:42:25.360043Z",
     "shell.execute_reply.started": "2024-07-14T06:42:25.348156Z"
    }
   },
   "outputs": [],
   "source": [
    "def toPandas(data):\n",
    "    return  pd.DataFrame(torch.cat([data.T.cpu(), data.D.cpu(),data.X.cpu(),data.Z.cpu()],1))  \n",
    "\n",
    "np.random.seed(2024); torch.manual_seed(1)\n",
    "\n",
    "model_theta = nn.Sequential(\n",
    "    nn.Linear(mydat.Z.shape[1],50),\n",
    "    nn.ReLU(),\n",
    "    nn.Linear(50,50),\n",
    "    nn.ReLU(),\n",
    "    nn.Linear(50,1),\n",
    ")\n",
    "\n",
    "# define the neural network framework used to train f(Z,t) = E[X|Z,T>t]\n",
    "model_XZ = nn.Sequential(\n",
    "    nn.Linear(mydat.Z.shape[1],50),\n",
    "    nn.ReLU(),\n",
    "    nn.Linear(50,50),\n",
    "    nn.ReLU(),\n",
    "    nn.Linear(50,mydat.X.shape[1]),\n",
    "    nn.Sigmoid(),\n",
    ")\n",
    "\n",
    "# model_theta = nn.Sequential(\n",
    "#     nn.Linear(mydat.Z.shape[1],100),\n",
    "#     nn.Sigmoid(),\n",
    "#     nn.Linear(100,1),\n",
    "# )\n",
    "\n",
    "# # define the neural network framework used to train f(Z,t) = E[X|Z,T>t]\n",
    "# model_XZ = nn.Sequential(\n",
    "#     nn.Linear(mydat.Z.shape[1],50),\n",
    "#     nn.Sigmoid(),\n",
    "#     nn.Linear(50,mydat.X.shape[1]),\n",
    "#     nn.Sigmoid(),\n",
    "# )\n",
    "\n",
    "Epoch_XZ=181\n",
    "lr_XZ=3e-4\n",
    "Epoch_theta=181\n",
    "lr_theta=1e-3\n",
    "accuracy=0.1"
   ]
  },
  {
   "cell_type": "code",
   "execution_count": 14,
   "id": "89504c64-fc1b-44ef-8c79-b8a3141913d5",
   "metadata": {
    "execution": {
     "iopub.execute_input": "2024-07-14T06:42:27.366101Z",
     "iopub.status.busy": "2024-07-14T06:42:27.365835Z",
     "iopub.status.idle": "2024-07-14T06:44:32.734799Z",
     "shell.execute_reply": "2024-07-14T06:44:32.733019Z",
     "shell.execute_reply.started": "2024-07-14T06:42:27.366078Z"
    }
   },
   "outputs": [
    {
     "name": "stdout",
     "output_type": "stream",
     "text": [
      "0 1 2 3 4 "
     ]
    }
   ],
   "source": [
    "np.random.seed(2024); torch.manual_seed(1)\n",
    "BETA_DB = list()\n",
    "BETA_NAIVE = list()\n",
    "BETA_COX = list()\n",
    "\n",
    "SE_DB = list()\n",
    "SE_NAIVE = list()\n",
    "SE_COX = list()\n",
    "\n",
    "np.random.seed(2024)\n",
    "sample = np.random.permutation(np.arange(len(mydat.T)))\n",
    "# Split the vector into 5 random parts\n",
    "split_vector = np.array_split(sample, 5)\n",
    "# Print the resulting split vector\n",
    "for i, sample_val in enumerate(split_vector):\n",
    "    mask = np.isin(sample, sample_val, invert=True)\n",
    "    mydat_train = mydat[sample[mask]] \n",
    "    mydat_test = mydat[sample_val]\n",
    "    \n",
    "    # train the double robust model\n",
    "    (beta_DB, var_est_DB, \n",
    "     beta_est1, deepSurv1,  model_XZ1, \n",
    "     beta_est2, deepSurv2, model_XZ2) = DML_CoxPH(mydat_train, device=device,accuracy=accuracy, Test_set= mydat_test,\n",
    "                                                  model_XZ=model_XZ, model_theta=model_theta,\n",
    "                                                  Epoch_XZ=Epoch_XZ, Epoch_theta=Epoch_theta,\n",
    "                                                  lr_XZ=lr_XZ, lr_theta=lr_theta,\n",
    "                                                  print_state=False)\n",
    "\n",
    "    beta=torch.zeros(2)\n",
    "    beta_naive=(beta_est1+beta_est2)/2\n",
    "    net = CustomNet(h_dims=[1, 50,50,50, len(beta)], g_dims=[13,50,50,50, len(beta)])\n",
    "    var_est_naive = fit_variance(mydat_train, net, device=device, lr=4e-5,Epoch=400,print_state=False)\n",
    "    \n",
    "    cph = CoxPHFitter()\n",
    "    cph.fit(toPandas(mydat_train), 0, 1)\n",
    "    # cph.print_summary()\n",
    "    beta_Cox = np.array(cph.params_[0:2])\n",
    "    se_Cox = np.sqrt(np.diag(cph.variance_matrix_)[0:2])\n",
    "\n",
    "    BETA_DB.append(beta_DB.cpu())\n",
    "    BETA_NAIVE.append(beta_naive.cpu())\n",
    "    BETA_COX.append(beta_Cox)\n",
    "    SE_COX.append(se_Cox)\n",
    "    SE_NAIVE.append(np.sqrt(np.diag(var_est_naive.cpu())))\n",
    "    SE_DB.append(np.sqrt(np.diag(var_est_DB.cpu())))\n",
    "\n",
    "    print(i,end=' ')\n",
    "    pass\n",
    "\n"
   ]
  },
  {
   "cell_type": "code",
   "execution_count": 16,
   "id": "024385d3-9f1b-4e02-9c87-471868ae04c0",
   "metadata": {
    "execution": {
     "iopub.execute_input": "2024-07-14T07:03:25.407096Z",
     "iopub.status.busy": "2024-07-14T07:03:25.406184Z",
     "iopub.status.idle": "2024-07-14T07:03:26.006268Z",
     "shell.execute_reply": "2024-07-14T07:03:26.005465Z",
     "shell.execute_reply.started": "2024-07-14T07:03:25.407025Z"
    }
   },
   "outputs": [
    {
     "data": {
      "image/png": "[encoded data removed]",
      "text/plain": [
       "<Figure size 1400x500 with 2 Axes>"
      ]
     },
     "metadata": {},
     "output_type": "display_data"
    }
   ],
   "source": [
    "plt.figure(figsize=[14,5])\n",
    "plt.subplot(1,2,1)\n",
    "plt.errorbar(range(5), np.array(BETA_COX)[:,0],1.96*np.array(SE_COX)[:,0],fmt='o', linewidth=1)\n",
    "plt.errorbar(np.arange(5)-0.2, np.array(BETA_NAIVE)[:,0],1.96*np.array(SE_NAIVE)[:,0],fmt='o', linewidth=1)\n",
    "plt.errorbar(np.arange(5)+0.2, np.array(BETA_DB)[:,0],1.96*np.array(SE_DB)[:,0],fmt='o', linewidth=1)\n",
    "plt.plot([-0.2,4.2],[0,0],color='black')\n",
    "plt.xlabel('Fold index')\n",
    "plt.ylabel('Partial effects')\n",
    "plt.title('lev')\n",
    "\n",
    "plt.subplot(1,2,2)\n",
    "plt.errorbar(range(5), np.array(BETA_COX)[:,1],1.96*np.array(SE_COX)[:,1],fmt='o',label='Linear', linewidth=1)\n",
    "plt.errorbar(np.arange(5)-0.2, np.array(BETA_NAIVE)[:,1],1.96*np.array(SE_NAIVE)[:,1],fmt='o',label='PL', linewidth=1)\n",
    "plt.errorbar(np.arange(5)+0.2, np.array(BETA_DB)[:,1],1.96*np.array(SE_DB)[:,1],fmt='o',label='DB', linewidth=1)\n",
    "plt.plot([-0.2,4.2],[0,0],color='black')\n",
    "plt.xlabel('Fold index')\n",
    "plt.ylabel('Partial effects')\n",
    "# plt.ylim(-0.6,1)\n",
    "plt.legend(loc='upper right',bbox_to_anchor=(1.3, 1))\n",
    "\n",
    "plt.title('lev+5FU')\n",
    "\n",
    "plt.subplots_adjust(wspace=0.5)\n",
    "plt.savefig('colon_death.pdf')\n",
    "plt.show()"
   ]
  },
  {
   "cell_type": "code",
   "execution_count": null,
   "id": "e3d28884-49c2-4622-b36f-446dc58825d7",
   "metadata": {},
   "outputs": [],
   "source": []
  }
 ],
 "metadata": {
  "kernelspec": {
   "display_name": "base",
   "language": "python",
   "name": "python3"
  },
  "language_info": {
   "codemirror_mode": {
    "name": "ipython",
    "version": 3
   },
   "file_extension": ".py",
   "mimetype": "text/x-python",
   "name": "python",
   "nbconvert_exporter": "python",
   "pygments_lexer": "ipython3",
   "version": "3.9.13"
  }
 },
 "nbformat": 4,
 "nbformat_minor": 5
}
