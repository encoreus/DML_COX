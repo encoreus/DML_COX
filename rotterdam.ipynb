{
 "cells": [
  {
   "cell_type": "markdown",
   "id": "0cb1ec54-9fd7-48fd-ad49-6a793d12277d",
   "metadata": {},
   "source": [
    "## Import the package and data"
   ]
  },
  {
   "cell_type": "code",
   "execution_count": 1,
   "id": "c54c68e0-63b2-4447-97ec-e7121c4777b9",
   "metadata": {
    "execution": {
     "iopub.execute_input": "2024-07-14T06:39:50.734097Z",
     "iopub.status.busy": "2024-07-14T06:39:50.733787Z",
     "iopub.status.idle": "2024-07-14T06:39:54.664246Z",
     "shell.execute_reply": "2024-07-14T06:39:54.663200Z",
     "shell.execute_reply.started": "2024-07-14T06:39:50.734074Z"
    }
   },
   "outputs": [
    {
     "name": "stdout",
     "output_type": "stream",
     "text": [
      "cuda:0\n"
     ]
    }
   ],
   "source": [
    "import numpy as np\n",
    "import pandas as pd\n",
    "import math\n",
    "import torch\n",
    "import matplotlib.pyplot  as plt\n",
    "import matplotlib\n",
    "import copy\n",
    "\n",
    "from random import shuffle\n",
    "from torch.utils.data import DataLoader, TensorDataset, random_split, Dataset,ConcatDataset\n",
    "from torch import nn\n",
    "from torchvision import datasets,transforms\n",
    "from scipy.stats import chi2\n",
    "from mpl_toolkits.mplot3d import Axes3D\n",
    "from DML_COX import *\n",
    "from lifelines import CoxPHFitter\n",
    "def toPandas(data):\n",
    "    return  pd.DataFrame(torch.cat([data.T.cpu(), data.D.cpu(),data.X.cpu(),data.Z.cpu()],1))   \n",
    "\n",
    "\n",
    "torch.cuda.empty_cache()\n",
    "device = torch.device(\"cuda:0\" if torch.cuda.is_available() else \"cpu\")\n",
    "print(device)"
   ]
  },
  {
   "cell_type": "code",
   "execution_count": 2,
   "id": "f2aaef7a-f545-4f50-92df-eb0c6d39fa5a",
   "metadata": {
    "execution": {
     "iopub.execute_input": "2024-07-14T06:39:54.676742Z",
     "iopub.status.busy": "2024-07-14T06:39:54.676464Z",
     "iopub.status.idle": "2024-07-14T06:39:54.756441Z",
     "shell.execute_reply": "2024-07-14T06:39:54.755266Z",
     "shell.execute_reply.started": "2024-07-14T06:39:54.676714Z"
    }
   },
   "outputs": [
    {
     "name": "stdout",
     "output_type": "stream",
     "text": [
      "   Unnamed: 0  pid  year  age  meno   size  grade  nodes  pgr   er  hormon  \\\n",
      "0        1393    1  1992   74     1   <=20      3      0   35  291       0   \n",
      "1        1416    2  1984   79     1  20-50      3      0   36  611       0   \n",
      "2        2962    3  1983   44     0   <=20      2      0  138    0       0   \n",
      "3        1455    4  1985   70     1  20-50      3      0    0   12       0   \n",
      "4         977    5  1983   75     1   <=20      3      0  260  409       0   \n",
      "\n",
      "   chemo  rtime  recur  dtime  death  \n",
      "0      0   1799      0   1799      0  \n",
      "1      0   2828      0   2828      0  \n",
      "2      0   6012      0   6012      0  \n",
      "3      0   2624      0   2624      0  \n",
      "4      0   4915      0   4915      0  \n"
     ]
    }
   ],
   "source": [
    "# 读取CSV文件\n",
    "rotterdam = pd.read_csv('rotterdam.csv')\n",
    "\n",
    "# 显示数据的前几行\n",
    "print(rotterdam.head())\n",
    "T = torch.unsqueeze(torch.tensor(rotterdam.dtime),1).to(torch.float32)\n",
    "D = torch.unsqueeze(torch.tensor(rotterdam.death),1).to(torch.float32)\n",
    "X1 = torch.unsqueeze(torch.tensor(rotterdam.hormon),1).to(torch.float32)\n",
    "X2 = torch.unsqueeze(torch.tensor(rotterdam.chemo),1).to(torch.float32)\n",
    "X = torch.cat((X1,X2),1)\n",
    "# print(T.shape)\n",
    "# print(D.shape)\n",
    "# print(X.shape)"
   ]
  },
  {
   "cell_type": "code",
   "execution_count": 3,
   "id": "c969cfae-21ef-488e-ac37-d275fa5de26d",
   "metadata": {
    "execution": {
     "iopub.execute_input": "2024-07-14T06:39:54.760401Z",
     "iopub.status.busy": "2024-07-14T06:39:54.759418Z",
     "iopub.status.idle": "2024-07-14T06:39:56.569896Z",
     "shell.execute_reply": "2024-07-14T06:39:56.569076Z",
     "shell.execute_reply.started": "2024-07-14T06:39:54.760337Z"
    }
   },
   "outputs": [
    {
     "name": "stdout",
     "output_type": "stream",
     "text": [
      "torch.Size([2982, 9])\n"
     ]
    }
   ],
   "source": [
    "# year = torch.tensor(rotterdam['year']).reshape(-1,1).to(torch.float32)\n",
    "age = torch.tensor(rotterdam['age']).reshape(-1,1).to(torch.float32)\n",
    "# age = age-torch.mean(age)\n",
    "meno = torch.tensor(rotterdam['meno']).reshape(-1,1).to(torch.float32)\n",
    "nodes = torch.tensor(rotterdam['nodes']).reshape(-1,1).to(torch.float32)\n",
    "pgr = torch.tensor(rotterdam['pgr']).reshape(-1,1).to(torch.float32)\n",
    "er = torch.tensor(rotterdam['er']).reshape(-1,1).to(torch.float32)\n",
    "recur = torch.tensor(rotterdam['recur']).reshape(-1,1).to(torch.float32)\n",
    "Z = torch.cat((age, meno, nodes, pgr, er, recur),axis=1)\n",
    "# print(Z)\n",
    "Z_size = torch.tensor(np.array(pd.get_dummies(rotterdam['size']))).to(torch.float32)[:,0:2]\n",
    "Z_grade = torch.unsqueeze(torch.tensor(np.array(pd.get_dummies(rotterdam['grade']))).to(torch.float32)[:,0],1)\n",
    "Z = feature_normalize(torch.cat((Z,Z_size,Z_grade),axis=1))\n",
    "# print(Z)\n",
    "mydat = DeepSurvData(T,D,X,Z,device)\n",
    "print(mydat.Z.shape)"
   ]
  },
  {
   "cell_type": "code",
   "execution_count": 4,
   "id": "6858897f-1f4f-4aa8-a0da-4df2d16e6ac6",
   "metadata": {
    "execution": {
     "iopub.execute_input": "2024-07-14T06:39:56.570986Z",
     "iopub.status.busy": "2024-07-14T06:39:56.570761Z",
     "iopub.status.idle": "2024-07-14T06:39:56.585802Z",
     "shell.execute_reply": "2024-07-14T06:39:56.585224Z",
     "shell.execute_reply.started": "2024-07-14T06:39:56.570964Z"
    }
   },
   "outputs": [
    {
     "name": "stdout",
     "output_type": "stream",
     "text": [
      "torch.Size([2400, 9])\n"
     ]
    }
   ],
   "source": [
    "np.random.seed(2024)\n",
    "torch.manual_seed(1)\n",
    "sample=np.random.permutation(np.arange(len(mydat.T)))\n",
    "sample1 = sample[0:2400]\n",
    "sample2 = sample[2400:len(sample)]\n",
    "mydat_train = mydat[sample1] \n",
    "mydat_test = mydat[sample2]\n",
    "print(mydat_train.Z.shape)\n",
    "\n",
    "\n",
    "model_theta = nn.Sequential(\n",
    "    nn.Linear(mydat.Z.shape[1],50),\n",
    "    nn.ReLU(),\n",
    "    nn.Linear(50,50),\n",
    "    nn.ReLU(),\n",
    "    nn.Linear(50,1),\n",
    ")\n",
    "\n",
    "# define the neural network framework used to train f(Z,t) = E[X|Z,T>t]\n",
    "model_XZ = nn.Sequential(\n",
    "    nn.Linear(mydat.Z.shape[1],50),\n",
    "    nn.ReLU(),\n",
    "    nn.Linear(50,50),\n",
    "    nn.ReLU(),\n",
    "    nn.Linear(50,mydat.X.shape[1]),\n",
    "    nn.Sigmoid(),\n",
    ")\n",
    "\n",
    "\n",
    "Epoch_XZ=1181\n",
    "lr_XZ=5e-2\n",
    "Epoch_theta=1191\n",
    "lr_theta=1e-3\n"
   ]
  },
  {
   "cell_type": "markdown",
   "id": "fdb884cf-93db-4222-a5a4-82f16631dd63",
   "metadata": {
    "jp-MarkdownHeadingCollapsed": true
   },
   "source": [
    "## Estimating $\\theta(Z)$, $\\Lambda(t)$"
   ]
  },
  {
   "cell_type": "code",
   "execution_count": 5,
   "id": "dc4e13c5-65ff-455a-91d7-2423b70eeb1c",
   "metadata": {
    "execution": {
     "iopub.execute_input": "2024-06-17T07:25:30.426508Z",
     "iopub.status.busy": "2024-06-17T07:25:30.425585Z",
     "iopub.status.idle": "2024-06-17T07:25:38.393289Z",
     "shell.execute_reply": "2024-06-17T07:25:38.392594Z",
     "shell.execute_reply.started": "2024-06-17T07:25:30.426436Z"
    }
   },
   "outputs": [
    {
     "name": "stdout",
     "output_type": "stream",
     "text": [
      "train E[X|Z,T>t]\n",
      "epoch: 0 Train_loss:3.52642, epoch: 0 Test_loss:2.01339\n",
      "epoch: 10 Train_loss:1.33843, epoch: 10 Test_loss:1.43259\n",
      "epoch: 20 Train_loss:0.93752, epoch: 20 Test_loss:1.13080\n",
      "epoch: 30 Train_loss:0.71318, epoch: 30 Test_loss:1.00078\n",
      "epoch: 40 Train_loss:0.62017, epoch: 40 Test_loss:1.15761\n",
      "epoch: 50 Train_loss:0.55155, epoch: 50 Test_loss:1.33020\n"
     ]
    }
   ],
   "source": [
    "# beta_est,theta_est = fit_CoxPH(mydat_train,device=device,model=model_theta,\n",
    "#                                Epoch=Epoch_theta, lr=lr_theta,\n",
    "#                                Test_set=mydat_test,print_state=True)\n",
    "# print(beta_est)\n",
    "torch.manual_seed(1)\n",
    "T_interval = torch.quantile(mydat.T,torch.arange(0,0.9,0.2).to(device))\n",
    "print('train E[X|Z,T>t]')\n",
    "model_XZ_fit = fit_XZ_complete(mydat_train,T_interval=T_interval,device=device,loss_fn=nn.BCELoss(),\n",
    "                           model=model_XZ, lr=lr_XZ, Epoch=Epoch_XZ,\n",
    "                           Test_set=mydat_test,print_state=True)\n"
   ]
  },
  {
   "cell_type": "markdown",
   "id": "74c5abb3-fdac-435e-bb6a-d30a67ebcea1",
   "metadata": {
    "jp-MarkdownHeadingCollapsed": true
   },
   "source": [
    "## Double Robust Estimation"
   ]
  },
  {
   "cell_type": "code",
   "execution_count": 7,
   "id": "30a0e113-f150-42fe-a9b6-c6884057e0cf",
   "metadata": {
    "execution": {
     "iopub.execute_input": "2024-06-18T07:55:02.020067Z",
     "iopub.status.busy": "2024-06-18T07:55:02.019315Z",
     "iopub.status.idle": "2024-06-18T07:55:02.031541Z",
     "shell.execute_reply": "2024-06-18T07:55:02.030647Z",
     "shell.execute_reply.started": "2024-06-18T07:55:02.019997Z"
    }
   },
   "outputs": [],
   "source": [
    "torch.manual_seed(1)\n",
    "model_theta = nn.Sequential(\n",
    "    nn.Linear(9,50),\n",
    "    nn.ReLU(),\n",
    "    nn.Linear(50,50),\n",
    "    nn.ReLU(),\n",
    "    nn.Linear(50,1),\n",
    ")\n",
    "\n",
    "# model_theta = nn.Sequential(\n",
    "#     nn.Linear(9,100),\n",
    "#     nn.ReLU(),\n",
    "#     nn.Linear(100,100),\n",
    "#     nn.ReLU(),\n",
    "#     nn.Linear(100,1),\n",
    "# )\n",
    "\n",
    "# define the neural network framework used to train f(Z,t) = E[X|Z,T>t]\n",
    "model_XZ = nn.Sequential(\n",
    "    nn.Linear(9,100),\n",
    "    nn.ReLU(),\n",
    "    nn.Linear(100,100),\n",
    "    nn.ReLU(),\n",
    "    nn.Linear(100,2),\n",
    "    nn.Sigmoid(),\n",
    ")\n",
    "\n",
    "\n",
    "Epoch_XZ=201\n",
    "lr_XZ=1e-2\n",
    "Epoch_theta=201\n",
    "lr_theta=1e-2\n",
    "accuracy=0.1"
   ]
  },
  {
   "cell_type": "code",
   "execution_count": 8,
   "id": "358bdd88-c680-4b1d-bfd8-39d52f1248fa",
   "metadata": {
    "execution": {
     "iopub.execute_input": "2024-06-18T07:59:09.868400Z",
     "iopub.status.busy": "2024-06-18T07:59:09.867573Z",
     "iopub.status.idle": "2024-06-18T07:59:13.715396Z",
     "shell.execute_reply": "2024-06-18T07:59:13.714113Z",
     "shell.execute_reply.started": "2024-06-18T07:59:09.868327Z"
    }
   },
   "outputs": [
    {
     "name": "stdout",
     "output_type": "stream",
     "text": [
      "train theta(Z)\n",
      "epoch: 0 Train_loss:3.08761, epoch: 0 Test_loss:2.53926\n",
      "epoch: 10 Train_loss:2.85329, epoch: 10 Test_loss:2.35798\n",
      "epoch: 20 Train_loss:2.80774, epoch: 20 Test_loss:2.32651\n",
      "epoch: 30 Train_loss:2.79039, epoch: 30 Test_loss:2.33041\n",
      "epoch: 40 Train_loss:2.77701, epoch: 40 Test_loss:2.33476\n",
      "epoch: 50 Train_loss:2.76605, epoch: 50 Test_loss:2.34416\n",
      "train E[X|Z,T>t]\n",
      "epoch: 0 Train_loss:3.38014, epoch: 0 Test_loss:2.59095\n",
      "epoch: 10 Train_loss:1.59582, epoch: 10 Test_loss:1.70738\n",
      "epoch: 20 Train_loss:1.36673, epoch: 20 Test_loss:1.48407\n",
      "epoch: 30 Train_loss:1.20087, epoch: 30 Test_loss:1.37674\n",
      "epoch: 40 Train_loss:1.01235, epoch: 40 Test_loss:1.19211\n",
      "epoch: 50 Train_loss:0.83570, epoch: 50 Test_loss:1.03595\n",
      "epoch: 60 Train_loss:0.71668, epoch: 60 Test_loss:0.99768\n",
      "epoch: 70 Train_loss:0.65223, epoch: 70 Test_loss:1.03020\n",
      "train theta(Z)\n",
      "epoch: 0 Train_loss:3.08429, epoch: 0 Test_loss:2.53646\n",
      "epoch: 10 Train_loss:2.85358, epoch: 10 Test_loss:2.35559\n",
      "epoch: 20 Train_loss:2.80995, epoch: 20 Test_loss:2.32708\n",
      "epoch: 30 Train_loss:2.79261, epoch: 30 Test_loss:2.32995\n",
      "epoch: 40 Train_loss:2.77793, epoch: 40 Test_loss:2.33340\n",
      "epoch: 50 Train_loss:2.76585, epoch: 50 Test_loss:2.33985\n",
      "train E[X|Z,T>t]\n",
      "epoch: 0 Train_loss:3.38078, epoch: 0 Test_loss:2.60275\n",
      "epoch: 10 Train_loss:1.60243, epoch: 10 Test_loss:1.72816\n",
      "epoch: 20 Train_loss:1.37390, epoch: 20 Test_loss:1.49510\n",
      "epoch: 30 Train_loss:1.20828, epoch: 30 Test_loss:1.37788\n",
      "epoch: 40 Train_loss:1.01974, epoch: 40 Test_loss:1.20800\n",
      "epoch: 50 Train_loss:0.84633, epoch: 50 Test_loss:1.05320\n",
      "epoch: 60 Train_loss:0.72753, epoch: 60 Test_loss:1.00327\n",
      "epoch: 70 Train_loss:0.66069, epoch: 70 Test_loss:1.02084\n",
      "Epoch 10, Train Loss: 0.112137, Val Loss: 0.127917\n",
      "Epoch 20, Train Loss: 0.107986, Val Loss: 0.122694\n",
      "Epoch 30, Train Loss: 0.101885, Val Loss: 0.118478\n",
      "Epoch 40, Train Loss: 0.096671, Val Loss: 0.112961\n",
      "Epoch 50, Train Loss: 0.091374, Val Loss: 0.105480\n",
      "Epoch 60, Train Loss: 0.087783, Val Loss: 0.100144\n",
      "Epoch 70, Train Loss: 0.085312, Val Loss: 0.097113\n",
      "Epoch 80, Train Loss: 0.083226, Val Loss: 0.094989\n",
      "Epoch 90, Train Loss: 0.081312, Val Loss: 0.093743\n",
      "Epoch 100, Train Loss: 0.079436, Val Loss: 0.092444\n",
      "Epoch 110, Train Loss: 0.077490, Val Loss: 0.091235\n",
      "Epoch 120, Train Loss: 0.075531, Val Loss: 0.090117\n",
      "Epoch 130, Train Loss: 0.073497, Val Loss: 0.089033\n",
      "Epoch 140, Train Loss: 0.071456, Val Loss: 0.088180\n",
      "Epoch 150, Train Loss: 0.069417, Val Loss: 0.087265\n",
      "Epoch 160, Train Loss: 0.067447, Val Loss: 0.086561\n",
      "Epoch 170, Train Loss: 0.065555, Val Loss: 0.085924\n",
      "Epoch 180, Train Loss: 0.063760, Val Loss: 0.085405\n",
      "Epoch 190, Train Loss: 0.062038, Val Loss: 0.085087\n",
      "Epoch 200, Train Loss: 0.060433, Val Loss: 0.084964\n",
      "Epoch 210, Train Loss: 0.058962, Val Loss: 0.084909\n",
      "Epoch 220, Train Loss: 0.057599, Val Loss: 0.084800\n",
      "Epoch 230, Train Loss: 0.056296, Val Loss: 0.084721\n",
      "Epoch 240, Train Loss: 0.055035, Val Loss: 0.084588\n",
      "Epoch 250, Train Loss: 0.053789, Val Loss: 0.084864\n"
     ]
    }
   ],
   "source": [
    "np.random.seed(2024)\n",
    "torch.manual_seed(1)\n",
    "\n",
    "sample=np.random.permutation(np.arange(len(mydat.T)))\n",
    "sample1 = sample[0:2400]\n",
    "sample2 = sample[2400:len(sample)]\n",
    "mydat_train = mydat[sample1] \n",
    "mydat_test = mydat[sample2]\n",
    "\n",
    "# train the double robust model\n",
    "(beta_DB, var_est_DB, \n",
    " beta_est1, deepSurv1,  model_XZ1, \n",
    " beta_est2, deepSurv2, model_XZ2) = DML_CoxPH(mydat_train, device=device,accuracy=0.2, Early_stop=True,\n",
    "                                              Test_set= mydat_test,loss_XZ=nn.BCELoss(),\n",
    "                                              model_XZ=model_XZ, model_theta=model_theta,\n",
    "                                              Epoch_XZ=Epoch_XZ, Epoch_theta=Epoch_theta,\n",
    "                                              lr_XZ=lr_XZ, lr_theta=lr_theta,\n",
    "                                              print_state=True)\n",
    "\n",
    "beta=torch.zeros(2)\n",
    "net = CustomNet(h_dims=[1, 50,50,50, len(beta)], g_dims=[9,50,50,50, len(beta)])\n",
    "var_est_naive = fit_variance(mydat_train, net, device=device, lr=5e-4,print_state=True)\n",
    "\n",
    "# calculate the direct parameter estimator without using double robust techniques\n",
    "beta_naive=(beta_est1+beta_est2)/2\n",
    "# calculate the p_value\n",
    "beta=beta.to(device)\n",
    "\n"
   ]
  },
  {
   "cell_type": "code",
   "execution_count": 9,
   "id": "dd405029",
   "metadata": {},
   "outputs": [
    {
     "name": "stdout",
     "output_type": "stream",
     "text": [
      "\n",
      "PL Cox bias： tensor([-0.2029, -0.3033], device='cuda:0') bias norm: tensor(0.3649, device='cuda:0')\n",
      "PL Cox standard error： tensor([0.1106, 0.1282], device='cuda:0')\n",
      "PL Cox test H_0: β=β_0, p value：0.01621\n",
      "PL Cox test H_0: β[0]=β_0[0], p value：0.06669\n",
      "PL Cox test H_0: β[1]=β_0[1], p value：0.01797\n",
      "\n",
      "DBPL bias： tensor([-0.1766, -0.2601], device='cuda:0') DBPL bias： tensor(0.3144, device='cuda:0')\n",
      "DBPL standard error： tensor([0.0963, 0.1358], device='cuda:0')\n",
      "DBPL test H_0: β=β_0, p value：0.03927\n",
      "DBPL test H_0: β[0]=β_0[0], p value：0.06680\n",
      "DBPL test H_0: β[1]=β_0[1], p value：0.05547\n"
     ]
    }
   ],
   "source": [
    "# var_est_naive=var_est_naive.to(device)\n",
    "print()\n",
    "chi_value = torch.squeeze((beta_naive-beta) @ torch.inverse(var_est_naive) @ torch.unsqueeze(beta_naive-beta,1))\n",
    "p_value_joint = 1 - chi2.cdf(chi_value.cpu(),len(beta_naive))\n",
    "p_value_single = 1 - chi2.cdf(((beta_naive-beta)**2/torch.diag(var_est_naive)).cpu(),1)\n",
    "print('PL Cox bias：',beta_naive-beta,'bias norm:',torch.norm(beta_naive-beta))\n",
    "print('PL Cox standard error：',torch.sqrt(torch.diag(var_est_naive)))\n",
    "print('PL Cox test H_0: β=β_0, p value：%.5f'%p_value_joint)\n",
    "for i in range(len(beta_naive)):\n",
    "    print('PL Cox test H_0: β[%d]=β_0[%d], p value：%.5f'%(i,i,p_value_single[i]))\n",
    "\n",
    "\n",
    "print()\n",
    "chi_value = torch.squeeze((beta_DB-beta) @ torch.inverse(var_est_DB) @ torch.unsqueeze(beta_DB-beta,1))\n",
    "p_value_joint = 1 - chi2.cdf(chi_value.cpu(),len(beta_DB))\n",
    "p_value_single = 1 - chi2.cdf(((beta_DB-beta)**2/torch.diag(var_est_DB)).cpu(),1)\n",
    "print('DBPL bias：',beta_DB-beta,'DBPL bias：',torch.norm(beta_DB-beta))\n",
    "print('DBPL standard error：',torch.sqrt(torch.diag(var_est_DB)))\n",
    "print('DBPL test H_0: β=β_0, p value：%.5f'%p_value_joint)\n",
    "for i in range(len(beta_DB)):\n",
    "    print('DBPL test H_0: β[%d]=β_0[%d], p value：%.5f'%(i,i,p_value_single[i]))"
   ]
  },
  {
   "cell_type": "code",
   "execution_count": 10,
   "id": "0d0f8d7f-ec46-41c2-9066-adf76c6f9e5e",
   "metadata": {
    "execution": {
     "iopub.execute_input": "2024-06-18T07:59:44.627310Z",
     "iopub.status.busy": "2024-06-18T07:59:44.626560Z",
     "iopub.status.idle": "2024-06-18T07:59:48.423744Z",
     "shell.execute_reply": "2024-06-18T07:59:48.422691Z",
     "shell.execute_reply.started": "2024-06-18T07:59:44.627240Z"
    }
   },
   "outputs": [
    {
     "name": "stdout",
     "output_type": "stream",
     "text": [
      "Epoch 10, Train Loss: 0.099762, Val Loss: 0.082260\n",
      "Epoch 20, Train Loss: 0.088221, Val Loss: 0.071309\n",
      "Epoch 30, Train Loss: 0.082670, Val Loss: 0.070795\n",
      "Epoch 40, Train Loss: 0.077248, Val Loss: 0.064184\n",
      "Epoch 50, Train Loss: 0.071726, Val Loss: 0.057589\n",
      "Epoch 60, Train Loss: 0.066995, Val Loss: 0.054062\n",
      "Epoch 70, Train Loss: 0.062924, Val Loss: 0.052877\n",
      "Epoch 80, Train Loss: 0.059366, Val Loss: 0.052345\n",
      "Epoch 90, Train Loss: 0.056064, Val Loss: 0.053728\n",
      "[0.11269546 0.13790399]\n"
     ]
    }
   ],
   "source": [
    "beta=torch.zeros(2)\n",
    "net = CustomNet(h_dims=[1, 50,50, len(beta)], g_dims=[9,50,50, len(beta)])\n",
    "var_est_naive = fit_variance(mydat_train, net, device=device, lr=1e-2,Epoch=400,print_state=True)\n",
    "print(np.sqrt(np.diag(var_est_naive.cpu())))"
   ]
  },
  {
   "cell_type": "markdown",
   "id": "d6bdc83b-1e4b-4bf9-8f35-6c3186abcb18",
   "metadata": {},
   "source": [
    "## Cross validation"
   ]
  },
  {
   "cell_type": "code",
   "execution_count": 16,
   "id": "5c77694f",
   "metadata": {
    "execution": {
     "iopub.execute_input": "2024-07-14T06:39:59.944373Z",
     "iopub.status.busy": "2024-07-14T06:39:59.943648Z",
     "iopub.status.idle": "2024-07-14T06:39:59.957082Z",
     "shell.execute_reply": "2024-07-14T06:39:59.956258Z",
     "shell.execute_reply.started": "2024-07-14T06:39:59.944304Z"
    }
   },
   "outputs": [],
   "source": [
    "torch.manual_seed(2024)\n",
    "\n",
    "# model_theta = nn.Sequential(\n",
    "#     nn.Linear(9,1),\n",
    "# )\n",
    "\n",
    "# model_theta = nn.Sequential(\n",
    "#     nn.Linear(9,100),\n",
    "#     nn.ReLU(),\n",
    "#     nn.Linear(100,100),\n",
    "#     nn.ReLU(),\n",
    "#     nn.Linear(100,1),\n",
    "# )\n",
    "\n",
    "# # define the neural network framework used to train f(Z,t) = E[X|Z,T>t]\n",
    "# model_XZ = nn.Sequential(\n",
    "#     nn.Linear(9,100),\n",
    "#     nn.ReLU(),\n",
    "#     nn.Linear(100,100),\n",
    "#     nn.ReLU(),\n",
    "#     nn.Linear(100,2),\n",
    "#     nn.Sigmoid(),\n",
    "# )\n",
    "\n",
    "model_theta = nn.Sequential(\n",
    "    nn.Linear(9,50),\n",
    "    nn.ReLU(),\n",
    "    # nn.Linear(50,50),\n",
    "    # nn.ReLU(),\n",
    "    nn.Linear(50,1),\n",
    ")\n",
    "\n",
    "# define the neural network framework used to train f(Z,t) = E[X|Z,T>t]\n",
    "model_XZ = nn.Sequential(\n",
    "    nn.Linear(9,50),\n",
    "    nn.ReLU(),\n",
    "    nn.Linear(50,50),\n",
    "    nn.ReLU(),\n",
    "    nn.Linear(50,2),\n",
    "    nn.Sigmoid(),\n",
    ")\n",
    "\n",
    "\n",
    "Epoch_XZ=201\n",
    "lr_XZ=1e-2\n",
    "Epoch_theta=201\n",
    "lr_theta=1e-2\n",
    "accuracy=0.1"
   ]
  },
  {
   "cell_type": "code",
   "execution_count": 17,
   "id": "d6963dbd-2a09-49a7-8ac4-9cab1d36c116",
   "metadata": {
    "execution": {
     "iopub.execute_input": "2024-07-14T06:41:54.629541Z",
     "iopub.status.busy": "2024-07-14T06:41:54.628814Z",
     "iopub.status.idle": "2024-07-14T06:45:13.232105Z",
     "shell.execute_reply": "2024-07-14T06:45:13.230400Z",
     "shell.execute_reply.started": "2024-07-14T06:41:54.629471Z"
    }
   },
   "outputs": [
    {
     "name": "stdout",
     "output_type": "stream",
     "text": [
      "0 1 2 3 4 "
     ]
    }
   ],
   "source": [
    "BETA_DB = list()\n",
    "BETA_NAIVE = list()\n",
    "BETA_COX = list()\n",
    "\n",
    "SE_DB = list()\n",
    "SE_NAIVE = list()\n",
    "SE_COX = list()\n",
    "\n",
    "np.random.seed(2024); torch.manual_seed(2024)\n",
    "sample = np.random.permutation(np.arange(len(mydat.T)))\n",
    "# Split the vector into 5 random parts\n",
    "split_vector = np.array_split(sample, 5)\n",
    "# Print the resulting split vector\n",
    "for i, sample_val in enumerate(split_vector):\n",
    "    mask = np.isin(sample, sample_val, invert=True)\n",
    "    mydat_train = mydat[sample[mask]] \n",
    "    mydat_test = mydat[sample_val]\n",
    "    # train the double robust model\n",
    "    (beta_DB, var_est_DB, \n",
    "     beta_est1, deepSurv1,  model_XZ1, \n",
    "     beta_est2, deepSurv2, model_XZ2) = DML_CoxPH(mydat_train, device=device,accuracy=accuracy, Test_set= mydat_test,\n",
    "                                                  model_XZ=model_XZ, model_theta=model_theta,\n",
    "                                                  Epoch_XZ=Epoch_XZ, Epoch_theta=Epoch_theta,\n",
    "                                                  lr_XZ=lr_XZ, lr_theta=lr_theta,\n",
    "                                                  print_state=False)\n",
    "\n",
    "    beta=torch.zeros(2)\n",
    "    beta_naive=(beta_est1+beta_est2)/2\n",
    "    net = CustomNet(h_dims=[1, 50,50, len(beta)], g_dims=[9,50,50, len(beta)])\n",
    "    var_est_naive = fit_variance(mydat_train, net, device=device, lr=1e-2,Epoch=300,print_state=False)\n",
    "    \n",
    "    cph = CoxPHFitter()\n",
    "    cph.fit(toPandas(mydat_train), 0, 1)\n",
    "    # cph.print_summary()\n",
    "    beta_Cox = np.array(cph.params_[0:2])\n",
    "    se_Cox = np.sqrt(np.diag(cph.variance_matrix_)[0:2])\n",
    "\n",
    "    BETA_DB.append(beta_DB.cpu())\n",
    "    BETA_NAIVE.append(beta_naive.cpu())\n",
    "    BETA_COX.append(beta_Cox)\n",
    "    SE_COX.append(se_Cox)\n",
    "    SE_NAIVE.append(np.sqrt(np.diag(var_est_naive.cpu())))\n",
    "    SE_DB.append(np.sqrt(np.diag(var_est_DB.cpu())))\n",
    "\n",
    "    print(i,end=' ')\n",
    "    pass\n",
    "    "
   ]
  },
  {
   "cell_type": "code",
   "execution_count": 22,
   "id": "067cbc1c-5d69-4eef-be83-f7287940028c",
   "metadata": {
    "execution": {
     "iopub.execute_input": "2024-07-14T07:05:42.393572Z",
     "iopub.status.busy": "2024-07-14T07:05:42.392820Z",
     "iopub.status.idle": "2024-07-14T07:05:42.859409Z",
     "shell.execute_reply": "2024-07-14T07:05:42.858655Z",
     "shell.execute_reply.started": "2024-07-14T07:05:42.393502Z"
    }
   },
   "outputs": [
    {
     "data": {
      "image/png": "[encoded data removed]",
      "text/plain": [
       "<Figure size 1400x500 with 2 Axes>"
      ]
     },
     "metadata": {},
     "output_type": "display_data"
    }
   ],
   "source": [
    "plt.figure(figsize=[14,5])\n",
    "plt.subplot(1,2,1)\n",
    "plt.errorbar(range(5), np.array(BETA_COX)[:,0],1.96*np.array(SE_COX)[:,0],fmt='o', linewidth=1)\n",
    "plt.errorbar(np.arange(5)-0.2, np.array(BETA_NAIVE)[:,0],1.96*np.array(SE_NAIVE)[:,0],fmt='o', linewidth=1)\n",
    "plt.errorbar(np.arange(5)+0.2, np.array(BETA_DB)[:,0],1.96*np.array(SE_DB)[:,0],fmt='o', linewidth=1)\n",
    "plt.plot([-0.2,4.2],[0,0],color='black')\n",
    "plt.xlabel('Fold index')\n",
    "plt.ylabel('Partial effects')\n",
    "plt.title('hormon')\n",
    "\n",
    "plt.subplot(1,2,2)\n",
    "plt.errorbar(range(5), np.array(BETA_COX)[:,1],1.96*np.array(SE_COX)[:,1],fmt='o',label='Linear', linewidth=1)\n",
    "plt.errorbar(np.arange(5)-0.2, np.array(BETA_NAIVE)[:,1],1.96*np.array(SE_NAIVE)[:,1],fmt='o',label='PL', linewidth=1)\n",
    "plt.errorbar(np.arange(5)+0.2, np.array(BETA_DB)[:,1],1.96*np.array(SE_DB)[:,1],fmt='o',label='DB', linewidth=1)\n",
    "plt.plot([-0.2,4.2],[0,0],color='black')\n",
    "plt.xlabel('Fold index')\n",
    "plt.ylabel('Partial effects')\n",
    "# plt.ylim(-0.6,1)\n",
    "plt.legend(loc='upper right',bbox_to_anchor=(1.3, 1))\n",
    "\n",
    "plt.title('chemo')\n",
    "\n",
    "plt.subplots_adjust(wspace=0.5)\n",
    "plt.savefig('rotterdam4.pdf')\n",
    "plt.show()"
   ]
  },
  {
   "cell_type": "code",
   "execution_count": 27,
   "id": "beca0939-4fad-4f2d-919a-bfeeec153fe8",
   "metadata": {
    "execution": {
     "iopub.execute_input": "2024-07-14T06:51:35.127382Z",
     "iopub.status.busy": "2024-07-14T06:51:35.126638Z",
     "iopub.status.idle": "2024-07-14T06:51:35.613631Z",
     "shell.execute_reply": "2024-07-14T06:51:35.612879Z",
     "shell.execute_reply.started": "2024-07-14T06:51:35.127312Z"
    }
   },
   "outputs": [
    {
     "data": {
      "image/png": "[encoded data removed]",
      "text/plain": [
       "<Figure size 1400x500 with 2 Axes>"
      ]
     },
     "metadata": {},
     "output_type": "display_data"
    }
   ],
   "source": [
    "plt.figure(figsize=[14,5])\n",
    "plt.subplot(1,2,1)\n",
    "plt.errorbar(range(5), np.array(BETA_COX)[:,0],1.645*np.array(SE_COX)[:,0],fmt='o', linewidth=1)\n",
    "plt.errorbar(np.arange(5)-0.2, np.array(BETA_NAIVE)[:,0],1.645*np.array(SE_NAIVE)[:,0],fmt='o', linewidth=1)\n",
    "plt.errorbar(np.arange(5)+0.2, np.array(BETA_DB)[:,0],1.645*np.array(SE_DB)[:,0],fmt='o', linewidth=1)\n",
    "plt.plot([-0.2,4.2],[0,0],color='black')\n",
    "plt.xlabel('Fold index')\n",
    "plt.ylabel('Partial effects')\n",
    "plt.title('hormon')\n",
    "\n",
    "plt.subplot(1,2,2)\n",
    "plt.errorbar(range(5), np.array(BETA_COX)[:,1],1.645*np.array(SE_COX)[:,1],fmt='o',label='linear', linewidth=1)\n",
    "plt.errorbar(np.arange(5)-0.2, np.array(BETA_NAIVE)[:,1],1.645*np.array(SE_NAIVE)[:,1],fmt='o',label='PL', linewidth=1)\n",
    "plt.errorbar(np.arange(5)+0.2, np.array(BETA_DB)[:,1],1.645*np.array(SE_DB)[:,1],fmt='o',label='DB', linewidth=1)\n",
    "plt.plot([-0.2,4.2],[0,0],color='black')\n",
    "plt.xlabel('Fold index')\n",
    "plt.ylabel('Partial effects')\n",
    "# plt.ylim(-0.6,1)\n",
    "plt.legend(loc='upper right',bbox_to_anchor=(1.3, 1))\n",
    "\n",
    "plt.title('chemo')\n",
    "\n",
    "plt.subplots_adjust(wspace=0.5)\n",
    "plt.savefig('rotterdam3.pdf')\n",
    "plt.show()"
   ]
  },
  {
   "cell_type": "code",
   "execution_count": null,
   "id": "9617c54f-ae32-400f-8b6e-1642fa1bd246",
   "metadata": {},
   "outputs": [],
   "source": []
  }
 ],
 "metadata": {
  "kernelspec": {
   "display_name": "ccczy",
   "language": "python",
   "name": "python3"
  },
  "language_info": {
   "codemirror_mode": {
    "name": "ipython",
    "version": 3
   },
   "file_extension": ".py",
   "mimetype": "text/x-python",
   "name": "python",
   "nbconvert_exporter": "python",
   "pygments_lexer": "ipython3",
   "version": "3.9.13"
  }
 },
 "nbformat": 4,
 "nbformat_minor": 5
}
